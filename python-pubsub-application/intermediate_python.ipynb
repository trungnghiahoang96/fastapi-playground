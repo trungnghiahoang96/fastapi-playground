{
 "cells": [
  {
   "cell_type": "markdown",
   "id": "6a9db66a-4c49-412d-b6b0-bf9773315e79",
   "metadata": {},
   "source": [
    "**unicode normalization**\n"
   ]
  },
  {
   "cell_type": "code",
   "execution_count": 1,
   "id": "64137d0d-d3b4-4db4-a6e2-12176ddcf0b7",
   "metadata": {},
   "outputs": [
    {
     "name": "stdout",
     "output_type": "stream",
     "text": [
      "hello\n"
     ]
    }
   ],
   "source": [
    "print('hello')"
   ]
  },
  {
   "cell_type": "code",
   "execution_count": 8,
   "id": "a3d4faca-2925-4364-998e-1df5c5146eac",
   "metadata": {},
   "outputs": [
    {
     "name": "stdout",
     "output_type": "stream",
     "text": [
      "The answer is ٤٢ today\n"
     ]
    }
   ],
   "source": [
    "print('The answer is \\u0664\\u0662 today')"
   ]
  },
  {
   "cell_type": "code",
   "execution_count": 13,
   "id": "af0a238f-8fd8-4e90-a04f-47c091e56673",
   "metadata": {},
   "outputs": [
    {
     "name": "stdout",
     "output_type": "stream",
     "text": [
      "TheNghiaWay ™\n"
     ]
    }
   ],
   "source": [
    "print('TheNghiaWay \\N{trade mark sign}')"
   ]
  },
  {
   "cell_type": "code",
   "execution_count": null,
   "id": "a1b8586d-714d-4ac5-91a0-65c19712efda",
   "metadata": {},
   "outputs": [],
   "source": []
  },
  {
   "cell_type": "code",
   "execution_count": 21,
   "id": "1874324e-7404-4009-83a7-89cecf43ddd4",
   "metadata": {},
   "outputs": [],
   "source": [
    "s = 'L' + chr(246) + 'wis'\n",
    "t = 'L' + chr(111) + chr(776) + 'wis'\n"
   ]
  },
  {
   "cell_type": "code",
   "execution_count": 22,
   "id": "2bf824e4-a0e1-4988-bdc7-6950d90158b5",
   "metadata": {},
   "outputs": [
    {
     "name": "stdout",
     "output_type": "stream",
     "text": [
      "Löwis\n"
     ]
    }
   ],
   "source": [
    "print(s)"
   ]
  },
  {
   "cell_type": "code",
   "execution_count": 23,
   "id": "3c07d2e9-852c-4c74-85f0-39fe3ad7446c",
   "metadata": {},
   "outputs": [
    {
     "name": "stdout",
     "output_type": "stream",
     "text": [
      "Löwis\n"
     ]
    }
   ],
   "source": [
    "print(t)"
   ]
  },
  {
   "cell_type": "code",
   "execution_count": 24,
   "id": "c083047c-7ed9-4297-a839-4872bd1881e6",
   "metadata": {},
   "outputs": [
    {
     "data": {
      "text/plain": [
       "[76, 246, 119, 105, 115]"
      ]
     },
     "execution_count": 24,
     "metadata": {},
     "output_type": "execute_result"
    }
   ],
   "source": [
    "[ord(c) for c in s]"
   ]
  },
  {
   "cell_type": "code",
   "execution_count": 25,
   "id": "1b393239-52b7-4d14-adbc-dd5d64e818fd",
   "metadata": {},
   "outputs": [
    {
     "data": {
      "text/plain": [
       "[76, 111, 776, 119, 105, 115]"
      ]
     },
     "execution_count": 25,
     "metadata": {},
     "output_type": "execute_result"
    }
   ],
   "source": [
    "[ord(c) for c in t]"
   ]
  },
  {
   "cell_type": "code",
   "execution_count": 26,
   "id": "bb44997d-bf18-48d2-8689-b891160cda44",
   "metadata": {},
   "outputs": [
    {
     "data": {
      "text/plain": [
       "False"
      ]
     },
     "execution_count": 26,
     "metadata": {},
     "output_type": "execute_result"
    }
   ],
   "source": [
    "s == t"
   ]
  },
  {
   "cell_type": "markdown",
   "id": "46ae3a12-1454-403b-b77d-04721c8919b5",
   "metadata": {},
   "source": [
    "--> 2 tên nhìn giống nhau nhưng thật ra là khác ---> nếu search có thể không ra "
   ]
  },
  {
   "cell_type": "code",
   "execution_count": 29,
   "id": "b929de5f-e214-4e94-8741-35fd70f4b87e",
   "metadata": {},
   "outputs": [],
   "source": [
    "import unicodedata\n",
    "\n",
    "u = unicodedata.normalize('NFC', t)\n"
   ]
  },
  {
   "cell_type": "code",
   "execution_count": 31,
   "id": "e0f25dea-490a-4489-adb1-8494383a0ac1",
   "metadata": {},
   "outputs": [
    {
     "data": {
      "text/plain": [
       "[76, 246, 119, 105, 115]"
      ]
     },
     "execution_count": 31,
     "metadata": {},
     "output_type": "execute_result"
    }
   ],
   "source": [
    "# normalized\n",
    "\n",
    "ord(c) for c in u]"
   ]
  },
  {
   "cell_type": "markdown",
   "id": "83f8d297-b0b7-4176-9f20-3224d5d6e300",
   "metadata": {},
   "source": [
    "**named tuple**\n"
   ]
  },
  {
   "cell_type": "code",
   "execution_count": 32,
   "id": "f5bf929e-2b49-4c42-8531-4696455ccd89",
   "metadata": {},
   "outputs": [],
   "source": [
    "from collections import namedtuple"
   ]
  },
  {
   "cell_type": "code",
   "execution_count": 34,
   "id": "87864c6b-28a1-4729-9067-eb25593ca429",
   "metadata": {},
   "outputs": [],
   "source": [
    "Person = namedtuple('Person', ['fname', 'lname', 'age', 'email'])"
   ]
  },
  {
   "cell_type": "code",
   "execution_count": 35,
   "id": "63e45709-0c19-40db-8207-8bea040caf96",
   "metadata": {},
   "outputs": [
    {
     "data": {
      "text/plain": [
       "Person(fname='nghia', lname='trung', age=27, email='data@gmail')"
      ]
     },
     "execution_count": 35,
     "metadata": {},
     "output_type": "execute_result"
    }
   ],
   "source": [
    "n = Person('nghia', 'trung', 27, 'data@gmail')\n",
    "n"
   ]
  },
  {
   "cell_type": "code",
   "execution_count": 36,
   "id": "49ac337a-04b0-401e-8779-5a4fd9d85291",
   "metadata": {},
   "outputs": [
    {
     "name": "stdout",
     "output_type": "stream",
     "text": [
      "nghia trung 27 data@gmail\n"
     ]
    }
   ],
   "source": [
    "a, b, c, d = n\n",
    "print(a, b, c, d)"
   ]
  },
  {
   "cell_type": "markdown",
   "id": "ec0f7cf5-9137-4d51-9422-1654adeac0bd",
   "metadata": {},
   "source": [
    "**bisect**"
   ]
  },
  {
   "cell_type": "code",
   "execution_count": 38,
   "id": "507f4f1b-7585-42a9-b03c-c466a227f5aa",
   "metadata": {},
   "outputs": [],
   "source": [
    "import bisect"
   ]
  },
  {
   "cell_type": "code",
   "execution_count": 49,
   "id": "c0261126-f545-446a-bff0-76541ef712a2",
   "metadata": {},
   "outputs": [
    {
     "data": {
      "text/plain": [
       "'B'"
      ]
     },
     "execution_count": 49,
     "metadata": {},
     "output_type": "execute_result"
    }
   ],
   "source": [
    "cuts = [60,70,80,90]\n",
    "grades = 'FDCBA'\n",
    "grades[bisect.bisect(cuts, 82)]"
   ]
  },
  {
   "cell_type": "code",
   "execution_count": 40,
   "id": "0da1a03e-6439-4a97-8a6b-a5fd15520f81",
   "metadata": {},
   "outputs": [
    {
     "data": {
      "text/plain": [
       "'B'"
      ]
     },
     "execution_count": 40,
     "metadata": {},
     "output_type": "execute_result"
    }
   ],
   "source": []
  },
  {
   "cell_type": "code",
   "execution_count": 42,
   "id": "233f08ea-e3a0-484d-8c7e-3da0fe0255c3",
   "metadata": {},
   "outputs": [
    {
     "data": {
      "text/plain": [
       "'A'"
      ]
     },
     "execution_count": 42,
     "metadata": {},
     "output_type": "execute_result"
    }
   ],
   "source": [
    "grades[bisect.bisect(cuts, 90)]"
   ]
  },
  {
   "cell_type": "code",
   "execution_count": 44,
   "id": "acfc09b7-f00a-46b9-9fb6-6c001415ee5e",
   "metadata": {},
   "outputs": [
    {
     "data": {
      "text/plain": [
       "'C'"
      ]
     },
     "execution_count": 44,
     "metadata": {},
     "output_type": "execute_result"
    }
   ],
   "source": [
    "grades[bisect.bisect(cuts, 75)]"
   ]
  },
  {
   "cell_type": "code",
   "execution_count": 48,
   "id": "6f8110d7-4a9c-488d-993d-de0d21385598",
   "metadata": {},
   "outputs": [
    {
     "data": {
      "text/plain": [
       "[('C', 76),\n",
       " ('A', 92),\n",
       " ('B', 80),\n",
       " ('C', 70),\n",
       " ('D', 69),\n",
       " ('A', 91),\n",
       " ('A', 99),\n",
       " ('A', 100)]"
      ]
     },
     "execution_count": 48,
     "metadata": {},
     "output_type": "execute_result"
    }
   ],
   "source": [
    "list(zip([grades[bisect.bisect(cuts, score)] for score in [76,92,80,70,69,91,99,100]], [76,92,80,70,69,91,99,100]))"
   ]
  },
  {
   "cell_type": "code",
   "execution_count": null,
   "id": "b569f47f-ed95-4809-bda5-74caf0d801ad",
   "metadata": {},
   "outputs": [],
   "source": []
  },
  {
   "cell_type": "markdown",
   "id": "7f2214af-c448-477a-b240-682491304891",
   "metadata": {},
   "source": [
    "**merge**"
   ]
  },
  {
   "cell_type": "code",
   "execution_count": 50,
   "id": "5d77661f-f26e-4c8d-b45c-85e81dbec602",
   "metadata": {},
   "outputs": [],
   "source": [
    "from heapq import merge"
   ]
  },
  {
   "cell_type": "code",
   "execution_count": 51,
   "id": "aad69291-d97c-4fff-9ab1-06e7485b9dfe",
   "metadata": {},
   "outputs": [
    {
     "data": {
      "text/plain": [
       "[1, 2, 5, 10, 11, 15, 20, 21, 25]"
      ]
     },
     "execution_count": 51,
     "metadata": {},
     "output_type": "execute_result"
    }
   ],
   "source": [
    "a = [1, 11, 25]\n",
    "b = [5, 10, 20]\n",
    "c = [2, 15, 21]\n",
    "\n",
    "sorted(a + b +c)\n"
   ]
  },
  {
   "cell_type": "code",
   "execution_count": 53,
   "id": "f2fc6860-337b-4c52-8c17-ae84f6de00a8",
   "metadata": {},
   "outputs": [
    {
     "data": {
      "text/plain": [
       "[1, 2, 5, 10, 11, 15, 20, 21, 25]"
      ]
     },
     "execution_count": 53,
     "metadata": {},
     "output_type": "execute_result"
    }
   ],
   "source": [
    "# merge sorted list and maintain the orrder\n",
    "\n",
    "list(merge(a, b, c))"
   ]
  },
  {
   "cell_type": "code",
   "execution_count": 55,
   "id": "b7946251-efbf-4c22-a255-fba51ccc00dd",
   "metadata": {},
   "outputs": [],
   "source": [
    "m = merge(a, b, c)\n",
    "# next(m)"
   ]
  },
  {
   "cell_type": "code",
   "execution_count": 56,
   "id": "9f20d894-eac1-4c8a-813b-d72c48e610fa",
   "metadata": {},
   "outputs": [
    {
     "data": {
      "text/plain": [
       "generator"
      ]
     },
     "execution_count": 56,
     "metadata": {},
     "output_type": "execute_result"
    }
   ],
   "source": [
    "type(m)"
   ]
  },
  {
   "cell_type": "code",
   "execution_count": 57,
   "id": "cb569bd3-5cf5-467e-927b-aeb64d0e141d",
   "metadata": {},
   "outputs": [
    {
     "ename": "TypeError",
     "evalue": "'generator' object is not subscriptable",
     "output_type": "error",
     "traceback": [
      "\u001b[0;31m---------------------------------------------------------------------------\u001b[0m",
      "\u001b[0;31mTypeError\u001b[0m                                 Traceback (most recent call last)",
      "Cell \u001b[0;32mIn[57], line 1\u001b[0m\n\u001b[0;32m----> 1\u001b[0m \u001b[43mm\u001b[49m\u001b[43m[\u001b[49m\u001b[43m:\u001b[49m\u001b[38;5;241;43m5\u001b[39;49m\u001b[43m]\u001b[49m\n",
      "\u001b[0;31mTypeError\u001b[0m: 'generator' object is not subscriptable"
     ]
    }
   ],
   "source": [
    "# generator can not be slice\n",
    "m[:5]"
   ]
  },
  {
   "cell_type": "code",
   "execution_count": 58,
   "id": "84928ab1-f9c7-4424-a010-9d7abc40883c",
   "metadata": {},
   "outputs": [],
   "source": [
    "from itertools import islice\n"
   ]
  },
  {
   "cell_type": "code",
   "execution_count": 59,
   "id": "aefc57e1-6643-4355-a657-b45bf85c4f89",
   "metadata": {},
   "outputs": [
    {
     "data": {
      "text/plain": [
       "[1, 2, 5]"
      ]
     },
     "execution_count": 59,
     "metadata": {},
     "output_type": "execute_result"
    }
   ],
   "source": [
    "# slice a generator\n",
    "list(islice(m, 3))"
   ]
  },
  {
   "cell_type": "code",
   "execution_count": 64,
   "id": "1b664b11-6fe0-4c64-a587-25928a82bd0d",
   "metadata": {},
   "outputs": [
    {
     "data": {
      "text/plain": [
       "<itertools.islice at 0x7f0792cf9df0>"
      ]
     },
     "execution_count": 64,
     "metadata": {},
     "output_type": "execute_result"
    }
   ],
   "source": [
    "islice(m, 3)"
   ]
  },
  {
   "cell_type": "code",
   "execution_count": 61,
   "id": "c1775d60-14ff-4f3b-9a33-8f22dc5753c5",
   "metadata": {},
   "outputs": [
    {
     "data": {
      "text/plain": [
       "[3, 4, 5]"
      ]
     },
     "execution_count": 61,
     "metadata": {},
     "output_type": "execute_result"
    }
   ],
   "source": [
    "list(islice(list(range(10)), 3, 6))"
   ]
  },
  {
   "cell_type": "code",
   "execution_count": 62,
   "id": "4898124f-ec2f-455c-8b80-626729460a9a",
   "metadata": {},
   "outputs": [
    {
     "data": {
      "text/plain": [
       "[0, 1, 2, 3, 4, 5]"
      ]
     },
     "execution_count": 62,
     "metadata": {},
     "output_type": "execute_result"
    }
   ],
   "source": [
    "list(islice(list(range(10)), None, 6))"
   ]
  },
  {
   "cell_type": "code",
   "execution_count": 63,
   "id": "c7a785f3-99f0-4123-969a-68cd45cd6f87",
   "metadata": {},
   "outputs": [
    {
     "data": {
      "text/plain": [
       "[5, 6, 7, 8, 9]"
      ]
     },
     "execution_count": 63,
     "metadata": {},
     "output_type": "execute_result"
    }
   ],
   "source": [
    "list(islice(list(range(10)), 5, None))"
   ]
  },
  {
   "cell_type": "code",
   "execution_count": null,
   "id": "3febfc79-4f87-4d1f-8c82-07d27f9ebde2",
   "metadata": {},
   "outputs": [],
   "source": []
  },
  {
   "cell_type": "code",
   "execution_count": 65,
   "id": "0e04e22e-7049-47f5-862d-639e0037ed57",
   "metadata": {},
   "outputs": [],
   "source": [
    "s = 'he'\n",
    "t = 'llo'\n",
    "u = 'hello'\n",
    "v = s + t"
   ]
  },
  {
   "cell_type": "code",
   "execution_count": 66,
   "id": "4f15e865-3e81-44ae-9790-28b680606d22",
   "metadata": {},
   "outputs": [
    {
     "data": {
      "text/plain": [
       "'hello'"
      ]
     },
     "execution_count": 66,
     "metadata": {},
     "output_type": "execute_result"
    }
   ],
   "source": [
    "u\n"
   ]
  },
  {
   "cell_type": "code",
   "execution_count": 67,
   "id": "a565bc2e-b5b6-4935-8e77-f3299fa97fee",
   "metadata": {},
   "outputs": [
    {
     "data": {
      "text/plain": [
       "'hello'"
      ]
     },
     "execution_count": 67,
     "metadata": {},
     "output_type": "execute_result"
    }
   ],
   "source": [
    "v\n"
   ]
  },
  {
   "cell_type": "code",
   "execution_count": 68,
   "id": "db475a33-b91f-49c0-b348-e89dd6f0d916",
   "metadata": {},
   "outputs": [
    {
     "data": {
      "text/plain": [
       "True"
      ]
     },
     "execution_count": 68,
     "metadata": {},
     "output_type": "execute_result"
    }
   ],
   "source": [
    "u == v"
   ]
  },
  {
   "cell_type": "code",
   "execution_count": 69,
   "id": "42d050cd-9efb-4c77-a9a3-9fdf948d208e",
   "metadata": {},
   "outputs": [
    {
     "data": {
      "text/plain": [
       "139671025585456"
      ]
     },
     "execution_count": 69,
     "metadata": {},
     "output_type": "execute_result"
    }
   ],
   "source": [
    "id(u)\n"
   ]
  },
  {
   "cell_type": "code",
   "execution_count": 70,
   "id": "c1227794-9af2-46ac-8640-b33e03576b26",
   "metadata": {},
   "outputs": [
    {
     "data": {
      "text/plain": [
       "139670863013296"
      ]
     },
     "execution_count": 70,
     "metadata": {},
     "output_type": "execute_result"
    }
   ],
   "source": [
    "id(v)"
   ]
  },
  {
   "cell_type": "code",
   "execution_count": null,
   "id": "e1279879-576c-4aa5-b670-a20a7910a843",
   "metadata": {},
   "outputs": [],
   "source": []
  },
  {
   "cell_type": "code",
   "execution_count": 71,
   "id": "c6112594-568f-4f63-89a9-7803c5c5d55f",
   "metadata": {},
   "outputs": [],
   "source": [
    "import random"
   ]
  },
  {
   "cell_type": "code",
   "execution_count": 77,
   "id": "ec019a03-3a88-4399-a1d6-e6e34a21de4e",
   "metadata": {},
   "outputs": [
    {
     "data": {
      "text/plain": [
       "2.299529917554245"
      ]
     },
     "execution_count": 77,
     "metadata": {},
     "output_type": "execute_result"
    }
   ],
   "source": [
    "random.expovariate(1 / 5)"
   ]
  },
  {
   "cell_type": "code",
   "execution_count": 78,
   "id": "20c8f74d-a148-421a-943c-5afba7a3d9a5",
   "metadata": {},
   "outputs": [
    {
     "data": {
      "text/plain": [
       "[1.0511791084718876,\n",
       " 0.4621268586258468,\n",
       " 4.714192431164408,\n",
       " 2.7092896990788238,\n",
       " 15.035199662282146,\n",
       " 5.578794656341344,\n",
       " 19.819448525762294,\n",
       " 23.012877459214163,\n",
       " 1.819035260700202,\n",
       " 2.9065877138327587,\n",
       " 4.541696914978323,\n",
       " 1.3735467576628284,\n",
       " 7.7209860754123065,\n",
       " 4.233669525675259,\n",
       " 2.0774786028292502,\n",
       " 10.288421570178441,\n",
       " 4.1933821800256235,\n",
       " 12.111705275962107,\n",
       " 6.291057474750679,\n",
       " 4.125896298063283]"
      ]
     },
     "execution_count": 78,
     "metadata": {},
     "output_type": "execute_result"
    }
   ],
   "source": [
    "[random.expovariate(1 / 5) for i in range(20)]"
   ]
  },
  {
   "cell_type": "code",
   "execution_count": 82,
   "id": "db93c3fc-5355-4335-b5b0-7a6a3268e87c",
   "metadata": {},
   "outputs": [
    {
     "data": {
      "text/plain": [
       "5.068003432624096"
      ]
     },
     "execution_count": 82,
     "metadata": {},
     "output_type": "execute_result"
    }
   ],
   "source": [
    "sum([random.expovariate(1 / 5) for i in range(1000)]) / 1000\n"
   ]
  },
  {
   "cell_type": "code",
   "execution_count": 83,
   "id": "c05a43b9-d381-4fe9-89b1-ea077e2e8b83",
   "metadata": {},
   "outputs": [
    {
     "data": {
      "text/plain": [
       "0.19758239254123267"
      ]
     },
     "execution_count": 83,
     "metadata": {},
     "output_type": "execute_result"
    }
   ],
   "source": [
    "sum([random.expovariate(5) for i in range(1000)]) / 1000"
   ]
  },
  {
   "cell_type": "code",
   "execution_count": null,
   "id": "67721db5-622e-4986-a877-c8046d6f6035",
   "metadata": {},
   "outputs": [],
   "source": []
  },
  {
   "cell_type": "code",
   "execution_count": 1,
   "id": "93561bdc-01d0-4022-80f3-6be1c33b31e4",
   "metadata": {},
   "outputs": [],
   "source": [
    "import time\n"
   ]
  },
  {
   "cell_type": "code",
   "execution_count": 2,
   "id": "bfb52ce0-21ac-418e-b903-750836a5431d",
   "metadata": {},
   "outputs": [
    {
     "data": {
      "text/plain": [
       "1703852144.732935"
      ]
     },
     "execution_count": 2,
     "metadata": {},
     "output_type": "execute_result"
    }
   ],
   "source": [
    "time.time()"
   ]
  },
  {
   "cell_type": "code",
   "execution_count": 3,
   "id": "7d3775c5-14bc-4f1b-a03e-7a0b0f900360",
   "metadata": {},
   "outputs": [
    {
     "data": {
      "text/plain": [
       "'Fri Dec 29 19:15:45 2023'"
      ]
     },
     "execution_count": 3,
     "metadata": {},
     "output_type": "execute_result"
    }
   ],
   "source": [
    "time.ctime()"
   ]
  },
  {
   "cell_type": "code",
   "execution_count": 4,
   "id": "95a50c08-9e43-4083-8d5c-7fd74c386847",
   "metadata": {},
   "outputs": [],
   "source": [
    "import hashlib"
   ]
  },
  {
   "cell_type": "code",
   "execution_count": 6,
   "id": "4fbe03e6-7955-4596-99f9-4ec1868247a3",
   "metadata": {},
   "outputs": [
    {
     "ename": "TypeError",
     "evalue": "Strings must be encoded before hashing",
     "output_type": "error",
     "traceback": [
      "\u001b[0;31m---------------------------------------------------------------------------\u001b[0m",
      "\u001b[0;31mTypeError\u001b[0m                                 Traceback (most recent call last)",
      "Cell \u001b[0;32mIn[6], line 1\u001b[0m\n\u001b[0;32m----> 1\u001b[0m \u001b[43mhashlib\u001b[49m\u001b[38;5;241;43m.\u001b[39;49m\u001b[43mmd5\u001b[49m\u001b[43m(\u001b[49m\u001b[38;5;124;43m'\u001b[39;49m\u001b[38;5;124;43mnghia\u001b[39;49m\u001b[38;5;124;43m'\u001b[39;49m\u001b[43m)\u001b[49m\n",
      "\u001b[0;31mTypeError\u001b[0m: Strings must be encoded before hashing"
     ]
    }
   ],
   "source": [
    "hashlib.md5('nghia')"
   ]
  },
  {
   "cell_type": "code",
   "execution_count": 8,
   "id": "04c19262-6ff4-43d4-80c2-8b6c93459d81",
   "metadata": {},
   "outputs": [
    {
     "data": {
      "text/plain": [
       "<md5 _hashlib.HASH object @ 0x7f581256beb0>"
      ]
     },
     "execution_count": 8,
     "metadata": {},
     "output_type": "execute_result"
    }
   ],
   "source": [
    "hashlib.md5('nghia'.encode('utf-8'))"
   ]
  },
  {
   "cell_type": "code",
   "execution_count": 9,
   "id": "da7ff2bb-7668-4620-aaf9-cbc681b5562b",
   "metadata": {},
   "outputs": [
    {
     "data": {
      "text/plain": [
       "b'\\x9e\\x8774\\x08\\xa6\\xcdBZ\\xe9\\xb1\\x9b\\xf8p\\xd8\\x93'"
      ]
     },
     "execution_count": 9,
     "metadata": {},
     "output_type": "execute_result"
    }
   ],
   "source": [
    "hashlib.md5('nghia'.encode('utf-8')).digest()"
   ]
  },
  {
   "cell_type": "code",
   "execution_count": 10,
   "id": "1ed29ff6-3a38-490a-be50-c79a7f34d357",
   "metadata": {},
   "outputs": [
    {
     "data": {
      "text/plain": [
       "'9e87373408a6cd425ae9b19bf870d893'"
      ]
     },
     "execution_count": 10,
     "metadata": {},
     "output_type": "execute_result"
    }
   ],
   "source": [
    "hashlib.md5('nghia'.encode('utf-8')).hexdigest()"
   ]
  },
  {
   "cell_type": "code",
   "execution_count": 11,
   "id": "89faffeb-8137-4fd8-8972-cfa36616ba91",
   "metadata": {},
   "outputs": [
    {
     "data": {
      "text/plain": [
       "'0de3a978e51771783c088e5d31154ca7bdadff9ff588cf6823ffb19b50138f049bf62f71d51bd772bc394264e5614c7176e411d8a6441f850e90462f17967dbb'"
      ]
     },
     "execution_count": 11,
     "metadata": {},
     "output_type": "execute_result"
    }
   ],
   "source": [
    "hashlib.sha512('nghia'.encode('utf-8')).hexdigest()"
   ]
  },
  {
   "cell_type": "code",
   "execution_count": null,
   "id": "dd712d62-8c08-4417-a608-44d620822b97",
   "metadata": {},
   "outputs": [],
   "source": []
  },
  {
   "cell_type": "code",
   "execution_count": 12,
   "id": "2511761a-461d-4005-baf7-3c832c7e2ddb",
   "metadata": {},
   "outputs": [],
   "source": [
    "p = 'Nghia'.encode('utf-8')"
   ]
  },
  {
   "cell_type": "code",
   "execution_count": 15,
   "id": "59e3ef8e-d864-4ba3-a57c-da37b3610784",
   "metadata": {},
   "outputs": [
    {
     "data": {
      "text/plain": [
       "b'g\\xefq\\xc3\\x99\\xbf}?\\x1a\\xfd\\xd7\\xfb24h\\xdai\\x83\\x84*\\xaa9\\xcf\\x96\\xb0uI\\x08Vp\\x1e\\xb3'"
      ]
     },
     "execution_count": 15,
     "metadata": {},
     "output_type": "execute_result"
    }
   ],
   "source": [
    "h = hashlib.pbkdf2_hmac('sha256', p, b'some phrase', 100000)\n",
    "h"
   ]
  },
  {
   "cell_type": "code",
   "execution_count": null,
   "id": "be1fb8c3-9ed8-47b2-aa55-af54c14c7cc8",
   "metadata": {},
   "outputs": [],
   "source": []
  },
  {
   "cell_type": "code",
   "execution_count": 16,
   "id": "61a544ce-6056-4bc7-a11f-5dbfcf875672",
   "metadata": {},
   "outputs": [
    {
     "data": {
      "text/plain": [
       "True"
      ]
     },
     "execution_count": 16,
     "metadata": {},
     "output_type": "execute_result"
    }
   ],
   "source": [
    "a = 'aa' \n",
    "b = 'bb'\n",
    "c = 'aab'\n",
    "d = 'b'\n",
    "\n",
    "a + b == c +d"
   ]
  },
  {
   "cell_type": "code",
   "execution_count": 21,
   "id": "fe90413a-fca3-400f-a3f8-a288eeeb3b86",
   "metadata": {},
   "outputs": [
    {
     "data": {
      "text/plain": [
       "\"('aab', 'b')\""
      ]
     },
     "execution_count": 21,
     "metadata": {},
     "output_type": "execute_result"
    }
   ],
   "source": [
    "repr((a,b))\n",
    "# \"('aa', 'bb')\"\n",
    "repr((c, d))\n",
    "# ('aab', 'b')\""
   ]
  },
  {
   "cell_type": "code",
   "execution_count": 18,
   "id": "351c4241-5b64-4c1f-8edb-a8af9e3d5cb8",
   "metadata": {},
   "outputs": [
    {
     "data": {
      "text/plain": [
       "\"('aab', 'b')\""
      ]
     },
     "execution_count": 18,
     "metadata": {},
     "output_type": "execute_result"
    }
   ],
   "source": [
    "repr((c, d))"
   ]
  },
  {
   "cell_type": "code",
   "execution_count": 19,
   "id": "67c5b312-d6d2-42e8-be10-5687b09aee17",
   "metadata": {},
   "outputs": [
    {
     "data": {
      "text/plain": [
       "False"
      ]
     },
     "execution_count": 19,
     "metadata": {},
     "output_type": "execute_result"
    }
   ],
   "source": [
    "repr((a, b)) == repr((c, d))"
   ]
  },
  {
   "cell_type": "code",
   "execution_count": null,
   "id": "ff1f040f-9e5a-4ab6-ba7b-a5f78c91298a",
   "metadata": {},
   "outputs": [],
   "source": [
    "\n"
   ]
  },
  {
   "cell_type": "code",
   "execution_count": 22,
   "id": "c9c6f7fc-cf43-4b29-8c92-09be0dadcf56",
   "metadata": {},
   "outputs": [
    {
     "data": {
      "text/plain": [
       "2.5"
      ]
     },
     "execution_count": 22,
     "metadata": {},
     "output_type": "execute_result"
    }
   ],
   "source": [
    "5/2\n"
   ]
  },
  {
   "cell_type": "code",
   "execution_count": 23,
   "id": "342e163f-0a66-4a03-9aa5-9cc0903aa259",
   "metadata": {},
   "outputs": [
    {
     "data": {
      "text/plain": [
       "2"
      ]
     },
     "execution_count": 23,
     "metadata": {},
     "output_type": "execute_result"
    }
   ],
   "source": [
    "5//2"
   ]
  },
  {
   "cell_type": "code",
   "execution_count": 24,
   "id": "b78e9e97-4b0c-436b-ab35-54897e6b00e7",
   "metadata": {},
   "outputs": [
    {
     "data": {
      "text/plain": [
       "[0, 10, 20, 30, 40, 50, 60, 70, 80, 90]"
      ]
     },
     "execution_count": 24,
     "metadata": {},
     "output_type": "execute_result"
    }
   ],
   "source": [
    "\n",
    "\n",
    "lambda_ternary_eval = lambda score: 'fail' if score < 50 else 'pass'\n",
    "\n",
    "grades = [i * 10 for i in range(10)]\n",
    "grades"
   ]
  },
  {
   "cell_type": "code",
   "execution_count": 25,
   "id": "3e2ac09b-eaba-464c-a17c-f7fb5d6e6357",
   "metadata": {},
   "outputs": [
    {
     "data": {
      "text/plain": [
       "['fail',\n",
       " 'fail',\n",
       " 'fail',\n",
       " 'fail',\n",
       " 'fail',\n",
       " 'pass',\n",
       " 'pass',\n",
       " 'pass',\n",
       " 'pass',\n",
       " 'pass']"
      ]
     },
     "execution_count": 25,
     "metadata": {},
     "output_type": "execute_result"
    }
   ],
   "source": [
    "[lambda_ternary_eval(grade) for grade in grades]\n"
   ]
  },
  {
   "cell_type": "code",
   "execution_count": null,
   "id": "7c768e08-3e78-4bc9-b461-3280ca6bc53a",
   "metadata": {},
   "outputs": [],
   "source": []
  },
  {
   "cell_type": "code",
   "execution_count": 26,
   "id": "6b5e56ac-bd52-44d8-a730-044b00f54fab",
   "metadata": {},
   "outputs": [
    {
     "data": {
      "text/plain": [
       "False"
      ]
     },
     "execution_count": 26,
     "metadata": {},
     "output_type": "execute_result"
    }
   ],
   "source": [
    "bool('')"
   ]
  },
  {
   "cell_type": "code",
   "execution_count": 27,
   "id": "83923041-fd44-46b4-b01e-f7cb88723718",
   "metadata": {},
   "outputs": [
    {
     "data": {
      "text/plain": [
       "True"
      ]
     },
     "execution_count": 27,
     "metadata": {},
     "output_type": "execute_result"
    }
   ],
   "source": [
    "bool('nghia')"
   ]
  },
  {
   "cell_type": "code",
   "execution_count": 28,
   "id": "23612c22-3533-4878-ab54-222369248b93",
   "metadata": {},
   "outputs": [
    {
     "data": {
      "text/plain": [
       "True"
      ]
     },
     "execution_count": 28,
     "metadata": {},
     "output_type": "execute_result"
    }
   ],
   "source": [
    "1 and True"
   ]
  },
  {
   "cell_type": "code",
   "execution_count": 31,
   "id": "a3ee3b6c-a9f5-4ab4-b046-07ed2a40652a",
   "metadata": {},
   "outputs": [
    {
     "data": {
      "text/plain": [
       "True"
      ]
     },
     "execution_count": 31,
     "metadata": {},
     "output_type": "execute_result"
    }
   ],
   "source": [
    "'Hello' and True"
   ]
  },
  {
   "cell_type": "code",
   "execution_count": 32,
   "id": "e3359296-4179-4481-b79b-37a9c9cddfaa",
   "metadata": {},
   "outputs": [
    {
     "data": {
      "text/plain": [
       "'Hello'"
      ]
     },
     "execution_count": 32,
     "metadata": {},
     "output_type": "execute_result"
    }
   ],
   "source": [
    "True and 'Hello'"
   ]
  },
  {
   "cell_type": "code",
   "execution_count": 33,
   "id": "c3c2e667-981c-4683-9752-5fbf51567168",
   "metadata": {},
   "outputs": [
    {
     "data": {
      "text/plain": [
       "False"
      ]
     },
     "execution_count": 33,
     "metadata": {},
     "output_type": "execute_result"
    }
   ],
   "source": [
    "False and ''"
   ]
  },
  {
   "cell_type": "code",
   "execution_count": 34,
   "id": "8ee39b41-d66d-4307-a788-b1897e73ad49",
   "metadata": {},
   "outputs": [
    {
     "data": {
      "text/plain": [
       "''"
      ]
     },
     "execution_count": 34,
     "metadata": {},
     "output_type": "execute_result"
    }
   ],
   "source": [
    "'' and False"
   ]
  },
  {
   "cell_type": "code",
   "execution_count": null,
   "id": "c71a7fba-f814-41a0-b84c-0b63e7c71f24",
   "metadata": {},
   "outputs": [],
   "source": []
  }
 ],
 "metadata": {
  "kernelspec": {
   "display_name": "Python 3 (ipykernel)",
   "language": "python",
   "name": "python3"
  },
  "language_info": {
   "codemirror_mode": {
    "name": "ipython",
    "version": 3
   },
   "file_extension": ".py",
   "mimetype": "text/x-python",
   "name": "python",
   "nbconvert_exporter": "python",
   "pygments_lexer": "ipython3",
   "version": "3.11.3"
  }
 },
 "nbformat": 4,
 "nbformat_minor": 5
}
